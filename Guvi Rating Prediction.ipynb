{
 "cells": [
  {
   "cell_type": "code",
   "execution_count": null,
   "metadata": {
    "id": "tJxILKapEz_a"
   },
   "outputs": [],
   "source": [
    "import pandas as pd\n",
    "import numpy as np\n",
    "import re\n",
    "from datetime import datetime\n",
    "import seaborn as sns\n",
    "import matplotlib.pyplot as plt\n",
    "from scipy import stats\n",
    "import warnings\n",
    "warnings.simplefilter('ignore', FutureWarning)"
   ]
  },
  {
   "cell_type": "code",
   "execution_count": 57,
   "metadata": {
    "colab": {
     "base_uri": "https://localhost:8080/",
     "height": 434
    },
    "id": "KgBK4WpiFJoj",
    "outputId": "7ccdf280-9787-4718-c523-b807a35a6af7"
   },
   "outputs": [
    {
     "data": {
      "text/html": [
       "\n",
       "  <div id=\"df-a87ed66b-119c-4c98-b3a0-e85f9f9bf8ae\" class=\"colab-df-container\">\n",
       "    <div>\n",
       "<style scoped>\n",
       "    .dataframe tbody tr th:only-of-type {\n",
       "        vertical-align: middle;\n",
       "    }\n",
       "\n",
       "    .dataframe tbody tr th {\n",
       "        vertical-align: top;\n",
       "    }\n",
       "\n",
       "    .dataframe thead th {\n",
       "        text-align: right;\n",
       "    }\n",
       "</style>\n",
       "<table border=\"1\" class=\"dataframe\">\n",
       "  <thead>\n",
       "    <tr style=\"text-align: right;\">\n",
       "      <th></th>\n",
       "      <th>course_id</th>\n",
       "      <th>course_title</th>\n",
       "      <th>url</th>\n",
       "      <th>price</th>\n",
       "      <th>num_subscribers</th>\n",
       "      <th>num_reviews</th>\n",
       "      <th>num_lectures</th>\n",
       "      <th>level</th>\n",
       "      <th>Rating</th>\n",
       "      <th>content_duration</th>\n",
       "      <th>published_timestamp</th>\n",
       "      <th>subject</th>\n",
       "    </tr>\n",
       "  </thead>\n",
       "  <tbody>\n",
       "    <tr>\n",
       "      <th>0</th>\n",
       "      <td>41295.0</td>\n",
       "      <td>Learn HTML5 Programming From Scratch</td>\n",
       "      <td>https://www.udemy.com/learn-html5-programming-...</td>\n",
       "      <td>0.0</td>\n",
       "      <td>268923.0</td>\n",
       "      <td>8629.0</td>\n",
       "      <td>45.0</td>\n",
       "      <td>Beginner Level</td>\n",
       "      <td>0.82</td>\n",
       "      <td>10.5</td>\n",
       "      <td>2013-02-14T07:03:41Z</td>\n",
       "      <td>Subject: Web Development</td>\n",
       "    </tr>\n",
       "    <tr>\n",
       "      <th>1</th>\n",
       "      <td>59014.0</td>\n",
       "      <td>Coding for Entrepreneurs Basic</td>\n",
       "      <td>https://www.udemy.com/coding-for-entrepreneurs...</td>\n",
       "      <td>0.0</td>\n",
       "      <td>161029.0</td>\n",
       "      <td>279.0</td>\n",
       "      <td>27.0</td>\n",
       "      <td>Expert Level</td>\n",
       "      <td>0.69</td>\n",
       "      <td>3.5</td>\n",
       "      <td>2013-06-09T15:51:55Z</td>\n",
       "      <td>Subject: Web Development</td>\n",
       "    </tr>\n",
       "    <tr>\n",
       "      <th>2</th>\n",
       "      <td>625204.0</td>\n",
       "      <td>The Web Developer Bootcamp</td>\n",
       "      <td>https://www.udemy.com/the-web-developer-bootcamp/</td>\n",
       "      <td>200.0</td>\n",
       "      <td>121584.0</td>\n",
       "      <td>27445.0</td>\n",
       "      <td>342.0</td>\n",
       "      <td>Beginner Level</td>\n",
       "      <td>0.89</td>\n",
       "      <td>43.0</td>\n",
       "      <td>2015-11-02T21:13:27Z</td>\n",
       "      <td>Subject: Web Development</td>\n",
       "    </tr>\n",
       "    <tr>\n",
       "      <th>3</th>\n",
       "      <td>173548.0</td>\n",
       "      <td>Build Your First Website in 1 Week with HTML5 ...</td>\n",
       "      <td>https://www.udemy.com/build-your-first-website...</td>\n",
       "      <td>0.0</td>\n",
       "      <td>120291.0</td>\n",
       "      <td>5924.0</td>\n",
       "      <td>30.0</td>\n",
       "      <td>All Levels</td>\n",
       "      <td>0.78</td>\n",
       "      <td>3.0</td>\n",
       "      <td>2014-04-08T16:21:30Z</td>\n",
       "      <td>Subject: Web Development</td>\n",
       "    </tr>\n",
       "    <tr>\n",
       "      <th>4</th>\n",
       "      <td>764164.0</td>\n",
       "      <td>The Complete Web Developer Course 2.0</td>\n",
       "      <td>https://www.udemy.com/the-complete-web-develop...</td>\n",
       "      <td>200.0</td>\n",
       "      <td>114512.0</td>\n",
       "      <td>22412.0</td>\n",
       "      <td>304.0</td>\n",
       "      <td>Beginner Level</td>\n",
       "      <td>0.55</td>\n",
       "      <td>30.5</td>\n",
       "      <td>2016-03-08T22:28:36Z</td>\n",
       "      <td>Subject: Web Development</td>\n",
       "    </tr>\n",
       "  </tbody>\n",
       "</table>\n",
       "</div>\n",
       "    <div class=\"colab-df-buttons\">\n",
       "\n",
       "  <div class=\"colab-df-container\">\n",
       "    <button class=\"colab-df-convert\" onclick=\"convertToInteractive('df-a87ed66b-119c-4c98-b3a0-e85f9f9bf8ae')\"\n",
       "            title=\"Convert this dataframe to an interactive table.\"\n",
       "            style=\"display:none;\">\n",
       "\n",
       "  <svg xmlns=\"http://www.w3.org/2000/svg\" height=\"24px\" viewBox=\"0 -960 960 960\">\n",
       "    <path d=\"M120-120v-720h720v720H120Zm60-500h600v-160H180v160Zm220 220h160v-160H400v160Zm0 220h160v-160H400v160ZM180-400h160v-160H180v160Zm440 0h160v-160H620v160ZM180-180h160v-160H180v160Zm440 0h160v-160H620v160Z\"/>\n",
       "  </svg>\n",
       "    </button>\n",
       "\n",
       "  <style>\n",
       "    .colab-df-container {\n",
       "      display:flex;\n",
       "      gap: 12px;\n",
       "    }\n",
       "\n",
       "    .colab-df-convert {\n",
       "      background-color: #E8F0FE;\n",
       "      border: none;\n",
       "      border-radius: 50%;\n",
       "      cursor: pointer;\n",
       "      display: none;\n",
       "      fill: #1967D2;\n",
       "      height: 32px;\n",
       "      padding: 0 0 0 0;\n",
       "      width: 32px;\n",
       "    }\n",
       "\n",
       "    .colab-df-convert:hover {\n",
       "      background-color: #E2EBFA;\n",
       "      box-shadow: 0px 1px 2px rgba(60, 64, 67, 0.3), 0px 1px 3px 1px rgba(60, 64, 67, 0.15);\n",
       "      fill: #174EA6;\n",
       "    }\n",
       "\n",
       "    .colab-df-buttons div {\n",
       "      margin-bottom: 4px;\n",
       "    }\n",
       "\n",
       "    [theme=dark] .colab-df-convert {\n",
       "      background-color: #3B4455;\n",
       "      fill: #D2E3FC;\n",
       "    }\n",
       "\n",
       "    [theme=dark] .colab-df-convert:hover {\n",
       "      background-color: #434B5C;\n",
       "      box-shadow: 0px 1px 3px 1px rgba(0, 0, 0, 0.15);\n",
       "      filter: drop-shadow(0px 1px 2px rgba(0, 0, 0, 0.3));\n",
       "      fill: #FFFFFF;\n",
       "    }\n",
       "  </style>\n",
       "\n",
       "    <script>\n",
       "      const buttonEl =\n",
       "        document.querySelector('#df-a87ed66b-119c-4c98-b3a0-e85f9f9bf8ae button.colab-df-convert');\n",
       "      buttonEl.style.display =\n",
       "        google.colab.kernel.accessAllowed ? 'block' : 'none';\n",
       "\n",
       "      async function convertToInteractive(key) {\n",
       "        const element = document.querySelector('#df-a87ed66b-119c-4c98-b3a0-e85f9f9bf8ae');\n",
       "        const dataTable =\n",
       "          await google.colab.kernel.invokeFunction('convertToInteractive',\n",
       "                                                    [key], {});\n",
       "        if (!dataTable) return;\n",
       "\n",
       "        const docLinkHtml = 'Like what you see? Visit the ' +\n",
       "          '<a target=\"_blank\" href=https://colab.research.google.com/notebooks/data_table.ipynb>data table notebook</a>'\n",
       "          + ' to learn more about interactive tables.';\n",
       "        element.innerHTML = '';\n",
       "        dataTable['output_type'] = 'display_data';\n",
       "        await google.colab.output.renderOutput(dataTable, element);\n",
       "        const docLink = document.createElement('div');\n",
       "        docLink.innerHTML = docLinkHtml;\n",
       "        element.appendChild(docLink);\n",
       "      }\n",
       "    </script>\n",
       "  </div>\n",
       "\n",
       "\n",
       "<div id=\"df-30d5ae40-6ee6-4d6d-9985-1f46c885267a\">\n",
       "  <button class=\"colab-df-quickchart\" onclick=\"quickchart('df-30d5ae40-6ee6-4d6d-9985-1f46c885267a')\"\n",
       "            title=\"Suggest charts.\"\n",
       "            style=\"display:none;\">\n",
       "\n",
       "<svg xmlns=\"http://www.w3.org/2000/svg\" height=\"24px\"viewBox=\"0 0 24 24\"\n",
       "     width=\"24px\">\n",
       "    <g>\n",
       "        <path d=\"M19 3H5c-1.1 0-2 .9-2 2v14c0 1.1.9 2 2 2h14c1.1 0 2-.9 2-2V5c0-1.1-.9-2-2-2zM9 17H7v-7h2v7zm4 0h-2V7h2v10zm4 0h-2v-4h2v4z\"/>\n",
       "    </g>\n",
       "</svg>\n",
       "  </button>\n",
       "\n",
       "<style>\n",
       "  .colab-df-quickchart {\n",
       "      --bg-color: #E8F0FE;\n",
       "      --fill-color: #1967D2;\n",
       "      --hover-bg-color: #E2EBFA;\n",
       "      --hover-fill-color: #174EA6;\n",
       "      --disabled-fill-color: #AAA;\n",
       "      --disabled-bg-color: #DDD;\n",
       "  }\n",
       "\n",
       "  [theme=dark] .colab-df-quickchart {\n",
       "      --bg-color: #3B4455;\n",
       "      --fill-color: #D2E3FC;\n",
       "      --hover-bg-color: #434B5C;\n",
       "      --hover-fill-color: #FFFFFF;\n",
       "      --disabled-bg-color: #3B4455;\n",
       "      --disabled-fill-color: #666;\n",
       "  }\n",
       "\n",
       "  .colab-df-quickchart {\n",
       "    background-color: var(--bg-color);\n",
       "    border: none;\n",
       "    border-radius: 50%;\n",
       "    cursor: pointer;\n",
       "    display: none;\n",
       "    fill: var(--fill-color);\n",
       "    height: 32px;\n",
       "    padding: 0;\n",
       "    width: 32px;\n",
       "  }\n",
       "\n",
       "  .colab-df-quickchart:hover {\n",
       "    background-color: var(--hover-bg-color);\n",
       "    box-shadow: 0 1px 2px rgba(60, 64, 67, 0.3), 0 1px 3px 1px rgba(60, 64, 67, 0.15);\n",
       "    fill: var(--button-hover-fill-color);\n",
       "  }\n",
       "\n",
       "  .colab-df-quickchart-complete:disabled,\n",
       "  .colab-df-quickchart-complete:disabled:hover {\n",
       "    background-color: var(--disabled-bg-color);\n",
       "    fill: var(--disabled-fill-color);\n",
       "    box-shadow: none;\n",
       "  }\n",
       "\n",
       "  .colab-df-spinner {\n",
       "    border: 2px solid var(--fill-color);\n",
       "    border-color: transparent;\n",
       "    border-bottom-color: var(--fill-color);\n",
       "    animation:\n",
       "      spin 1s steps(1) infinite;\n",
       "  }\n",
       "\n",
       "  @keyframes spin {\n",
       "    0% {\n",
       "      border-color: transparent;\n",
       "      border-bottom-color: var(--fill-color);\n",
       "      border-left-color: var(--fill-color);\n",
       "    }\n",
       "    20% {\n",
       "      border-color: transparent;\n",
       "      border-left-color: var(--fill-color);\n",
       "      border-top-color: var(--fill-color);\n",
       "    }\n",
       "    30% {\n",
       "      border-color: transparent;\n",
       "      border-left-color: var(--fill-color);\n",
       "      border-top-color: var(--fill-color);\n",
       "      border-right-color: var(--fill-color);\n",
       "    }\n",
       "    40% {\n",
       "      border-color: transparent;\n",
       "      border-right-color: var(--fill-color);\n",
       "      border-top-color: var(--fill-color);\n",
       "    }\n",
       "    60% {\n",
       "      border-color: transparent;\n",
       "      border-right-color: var(--fill-color);\n",
       "    }\n",
       "    80% {\n",
       "      border-color: transparent;\n",
       "      border-right-color: var(--fill-color);\n",
       "      border-bottom-color: var(--fill-color);\n",
       "    }\n",
       "    90% {\n",
       "      border-color: transparent;\n",
       "      border-bottom-color: var(--fill-color);\n",
       "    }\n",
       "  }\n",
       "</style>\n",
       "\n",
       "  <script>\n",
       "    async function quickchart(key) {\n",
       "      const quickchartButtonEl =\n",
       "        document.querySelector('#' + key + ' button');\n",
       "      quickchartButtonEl.disabled = true;  // To prevent multiple clicks.\n",
       "      quickchartButtonEl.classList.add('colab-df-spinner');\n",
       "      try {\n",
       "        const charts = await google.colab.kernel.invokeFunction(\n",
       "            'suggestCharts', [key], {});\n",
       "      } catch (error) {\n",
       "        console.error('Error during call to suggestCharts:', error);\n",
       "      }\n",
       "      quickchartButtonEl.classList.remove('colab-df-spinner');\n",
       "      quickchartButtonEl.classList.add('colab-df-quickchart-complete');\n",
       "    }\n",
       "    (() => {\n",
       "      let quickchartButtonEl =\n",
       "        document.querySelector('#df-30d5ae40-6ee6-4d6d-9985-1f46c885267a button');\n",
       "      quickchartButtonEl.style.display =\n",
       "        google.colab.kernel.accessAllowed ? 'block' : 'none';\n",
       "    })();\n",
       "  </script>\n",
       "</div>\n",
       "    </div>\n",
       "  </div>\n"
      ],
      "text/plain": [
       "   course_id                                       course_title  \\\n",
       "0    41295.0               Learn HTML5 Programming From Scratch   \n",
       "1    59014.0                     Coding for Entrepreneurs Basic   \n",
       "2   625204.0                         The Web Developer Bootcamp   \n",
       "3   173548.0  Build Your First Website in 1 Week with HTML5 ...   \n",
       "4   764164.0              The Complete Web Developer Course 2.0   \n",
       "\n",
       "                                                 url  price  num_subscribers  \\\n",
       "0  https://www.udemy.com/learn-html5-programming-...    0.0         268923.0   \n",
       "1  https://www.udemy.com/coding-for-entrepreneurs...    0.0         161029.0   \n",
       "2  https://www.udemy.com/the-web-developer-bootcamp/  200.0         121584.0   \n",
       "3  https://www.udemy.com/build-your-first-website...    0.0         120291.0   \n",
       "4  https://www.udemy.com/the-complete-web-develop...  200.0         114512.0   \n",
       "\n",
       "   num_reviews  num_lectures           level  Rating  content_duration  \\\n",
       "0       8629.0          45.0  Beginner Level    0.82              10.5   \n",
       "1        279.0          27.0    Expert Level    0.69               3.5   \n",
       "2      27445.0         342.0  Beginner Level    0.89              43.0   \n",
       "3       5924.0          30.0      All Levels    0.78               3.0   \n",
       "4      22412.0         304.0  Beginner Level    0.55              30.5   \n",
       "\n",
       "    published_timestamp                   subject  \n",
       "0  2013-02-14T07:03:41Z  Subject: Web Development  \n",
       "1  2013-06-09T15:51:55Z  Subject: Web Development  \n",
       "2  2015-11-02T21:13:27Z  Subject: Web Development  \n",
       "3  2014-04-08T16:21:30Z  Subject: Web Development  \n",
       "4  2016-03-08T22:28:36Z  Subject: Web Development  "
      ]
     },
     "execution_count": 57,
     "metadata": {},
     "output_type": "execute_result"
    }
   ],
   "source": [
    "df=pd.read_csv(r\"/content/drive/MyDrive/Downloads/3.1-data-sheet-guvi-courses.csv\")\n",
    "df.head(5)"
   ]
  },
  {
   "cell_type": "code",
   "execution_count": 58,
   "metadata": {
    "colab": {
     "base_uri": "https://localhost:8080/"
    },
    "id": "3uV3K5EUhgHG",
    "outputId": "3830d759-3ce2-4fad-d09c-d9990662dc66"
   },
   "outputs": [
    {
     "data": {
      "text/plain": [
       "course_id              4\n",
       "course_title           4\n",
       "url                    4\n",
       "price                  4\n",
       "num_subscribers        4\n",
       "num_reviews            4\n",
       "num_lectures           4\n",
       "level                  4\n",
       "Rating                 4\n",
       "content_duration       4\n",
       "published_timestamp    4\n",
       "subject                3\n",
       "dtype: int64"
      ]
     },
     "execution_count": 58,
     "metadata": {},
     "output_type": "execute_result"
    }
   ],
   "source": [
    "df.isnull().sum()"
   ]
  },
  {
   "cell_type": "code",
   "execution_count": 59,
   "metadata": {
    "colab": {
     "base_uri": "https://localhost:8080/"
    },
    "id": "zZ6jSJj5Hk-t",
    "outputId": "fbf37e62-27c3-41e9-e6be-2acbf0304e81"
   },
   "outputs": [
    {
     "name": "stdout",
     "output_type": "stream",
     "text": [
      "<class 'pandas.core.frame.DataFrame'>\n",
      "RangeIndex: 3680 entries, 0 to 3679\n",
      "Data columns (total 12 columns):\n",
      " #   Column               Non-Null Count  Dtype  \n",
      "---  ------               --------------  -----  \n",
      " 0   course_id            3676 non-null   float64\n",
      " 1   course_title         3676 non-null   object \n",
      " 2   url                  3676 non-null   object \n",
      " 3   price                3676 non-null   float64\n",
      " 4   num_subscribers      3676 non-null   float64\n",
      " 5   num_reviews          3676 non-null   float64\n",
      " 6   num_lectures         3676 non-null   float64\n",
      " 7   level                3676 non-null   object \n",
      " 8   Rating               3676 non-null   float64\n",
      " 9   content_duration     3676 non-null   float64\n",
      " 10  published_timestamp  3676 non-null   object \n",
      " 11  subject              3677 non-null   object \n",
      "dtypes: float64(7), object(5)\n",
      "memory usage: 345.1+ KB\n"
     ]
    }
   ],
   "source": [
    "df.info()"
   ]
  },
  {
   "cell_type": "code",
   "execution_count": 60,
   "metadata": {
    "colab": {
     "base_uri": "https://localhost:8080/"
    },
    "id": "hBY6RB4yH4_V",
    "outputId": "2b43fd37-0c31-439e-dedc-2d00dba9db7e"
   },
   "outputs": [
    {
     "name": "stdout",
     "output_type": "stream",
     "text": [
      "47\n",
      "1.2771739130434783\n"
     ]
    }
   ],
   "source": [
    "print(df.isnull().sum().sum())\n",
    "print((47/len(df))*100)      #only 1% of data is missing therefore dropping null values"
   ]
  },
  {
   "cell_type": "code",
   "execution_count": 61,
   "metadata": {
    "colab": {
     "base_uri": "https://localhost:8080/"
    },
    "id": "8BPAJz9uIFmt",
    "outputId": "22644284-5a0d-4c3e-f38f-2db9c990a122"
   },
   "outputs": [
    {
     "data": {
      "text/plain": [
       "course_id              0\n",
       "course_title           0\n",
       "url                    0\n",
       "price                  0\n",
       "num_subscribers        0\n",
       "num_reviews            0\n",
       "num_lectures           0\n",
       "level                  0\n",
       "Rating                 0\n",
       "content_duration       0\n",
       "published_timestamp    0\n",
       "subject                0\n",
       "dtype: int64"
      ]
     },
     "execution_count": 61,
     "metadata": {},
     "output_type": "execute_result"
    }
   ],
   "source": [
    "df.dropna(inplace=True)\n",
    "df.isnull().sum()"
   ]
  },
  {
   "cell_type": "code",
   "execution_count": 62,
   "metadata": {
    "colab": {
     "base_uri": "https://localhost:8080/"
    },
    "id": "TeyW__ejQwn_",
    "outputId": "4f31ce42-f3db-4443-c78d-25481a18f3e5"
   },
   "outputs": [
    {
     "name": "stderr",
     "output_type": "stream",
     "text": [
      "<ipython-input-62-587c891c3c01>:1: DeprecationWarning: `np.int` is a deprecated alias for the builtin `int`. To silence this warning, use `int` by itself. Doing this will not modify any behavior and is safe. When replacing `np.int`, you may wish to use e.g. `np.int64` or `np.int32` to specify the precision. If you wish to review your current use, check the release note link for additional information.\n",
      "Deprecated in NumPy 1.20; for more details and guidance: https://numpy.org/devdocs/release/1.20.0-notes.html#deprecations\n",
      "  df[\"published_year\"]=df[\"published_timestamp\"].apply(lambda x:np.int(x[0:4]))                   #extracted year\n",
      "<ipython-input-62-587c891c3c01>:2: DeprecationWarning: `np.int` is a deprecated alias for the builtin `int`. To silence this warning, use `int` by itself. Doing this will not modify any behavior and is safe. When replacing `np.int`, you may wish to use e.g. `np.int64` or `np.int32` to specify the precision. If you wish to review your current use, check the release note link for additional information.\n",
      "Deprecated in NumPy 1.20; for more details and guidance: https://numpy.org/devdocs/release/1.20.0-notes.html#deprecations\n",
      "  df[\"published_month\"]=df[\"published_timestamp\"].apply(lambda x:np.int(x[5:7]))                  #extracted month\n"
     ]
    }
   ],
   "source": [
    "df[\"published_year\"]=df[\"published_timestamp\"].apply(lambda x:np.int(x[0:4]))                   #extracted year\n",
    "df[\"published_month\"]=df[\"published_timestamp\"].apply(lambda x:np.int(x[5:7]))                  #extracted month"
   ]
  },
  {
   "cell_type": "code",
   "execution_count": 63,
   "metadata": {
    "colab": {
     "base_uri": "https://localhost:8080/",
     "height": 300
    },
    "id": "y02V0IKvAhVg",
    "outputId": "34163c18-74b4-49d7-befb-a925e930eef8"
   },
   "outputs": [
    {
     "data": {
      "text/html": [
       "\n",
       "  <div id=\"df-a22e2edf-535b-4dcd-ac86-0bd82b68b7a8\" class=\"colab-df-container\">\n",
       "    <div>\n",
       "<style scoped>\n",
       "    .dataframe tbody tr th:only-of-type {\n",
       "        vertical-align: middle;\n",
       "    }\n",
       "\n",
       "    .dataframe tbody tr th {\n",
       "        vertical-align: top;\n",
       "    }\n",
       "\n",
       "    .dataframe thead th {\n",
       "        text-align: right;\n",
       "    }\n",
       "</style>\n",
       "<table border=\"1\" class=\"dataframe\">\n",
       "  <thead>\n",
       "    <tr style=\"text-align: right;\">\n",
       "      <th></th>\n",
       "      <th>course_id</th>\n",
       "      <th>price</th>\n",
       "      <th>num_subscribers</th>\n",
       "      <th>num_reviews</th>\n",
       "      <th>num_lectures</th>\n",
       "      <th>Rating</th>\n",
       "      <th>content_duration</th>\n",
       "      <th>published_year</th>\n",
       "      <th>published_month</th>\n",
       "    </tr>\n",
       "  </thead>\n",
       "  <tbody>\n",
       "    <tr>\n",
       "      <th>count</th>\n",
       "      <td>3.676000e+03</td>\n",
       "      <td>3676.000000</td>\n",
       "      <td>3676.000000</td>\n",
       "      <td>3676.000000</td>\n",
       "      <td>3676.000000</td>\n",
       "      <td>3676.000000</td>\n",
       "      <td>3676.000000</td>\n",
       "      <td>3676.000000</td>\n",
       "      <td>3676.000000</td>\n",
       "    </tr>\n",
       "    <tr>\n",
       "      <th>mean</th>\n",
       "      <td>6.757535e+05</td>\n",
       "      <td>66.115343</td>\n",
       "      <td>3199.260881</td>\n",
       "      <td>156.309848</td>\n",
       "      <td>40.129761</td>\n",
       "      <td>0.610868</td>\n",
       "      <td>4.096137</td>\n",
       "      <td>2015.430903</td>\n",
       "      <td>6.162949</td>\n",
       "    </tr>\n",
       "    <tr>\n",
       "      <th>std</th>\n",
       "      <td>3.431304e+05</td>\n",
       "      <td>61.056073</td>\n",
       "      <td>9486.582966</td>\n",
       "      <td>935.674518</td>\n",
       "      <td>50.398507</td>\n",
       "      <td>0.334287</td>\n",
       "      <td>6.054948</td>\n",
       "      <td>1.184876</td>\n",
       "      <td>3.379949</td>\n",
       "    </tr>\n",
       "    <tr>\n",
       "      <th>min</th>\n",
       "      <td>8.324000e+03</td>\n",
       "      <td>0.000000</td>\n",
       "      <td>0.000000</td>\n",
       "      <td>0.000000</td>\n",
       "      <td>0.000000</td>\n",
       "      <td>0.000000</td>\n",
       "      <td>0.000000</td>\n",
       "      <td>2011.000000</td>\n",
       "      <td>1.000000</td>\n",
       "    </tr>\n",
       "    <tr>\n",
       "      <th>25%</th>\n",
       "      <td>4.074740e+05</td>\n",
       "      <td>20.000000</td>\n",
       "      <td>112.000000</td>\n",
       "      <td>4.000000</td>\n",
       "      <td>15.000000</td>\n",
       "      <td>0.280000</td>\n",
       "      <td>1.000000</td>\n",
       "      <td>2015.000000</td>\n",
       "      <td>3.000000</td>\n",
       "    </tr>\n",
       "    <tr>\n",
       "      <th>50%</th>\n",
       "      <td>6.876920e+05</td>\n",
       "      <td>45.000000</td>\n",
       "      <td>912.500000</td>\n",
       "      <td>18.000000</td>\n",
       "      <td>25.000000</td>\n",
       "      <td>0.760000</td>\n",
       "      <td>2.000000</td>\n",
       "      <td>2016.000000</td>\n",
       "      <td>6.000000</td>\n",
       "    </tr>\n",
       "    <tr>\n",
       "      <th>75%</th>\n",
       "      <td>9.608140e+05</td>\n",
       "      <td>95.000000</td>\n",
       "      <td>2558.000000</td>\n",
       "      <td>67.000000</td>\n",
       "      <td>46.000000</td>\n",
       "      <td>0.930000</td>\n",
       "      <td>4.500000</td>\n",
       "      <td>2016.000000</td>\n",
       "      <td>9.000000</td>\n",
       "    </tr>\n",
       "    <tr>\n",
       "      <th>max</th>\n",
       "      <td>1.282064e+06</td>\n",
       "      <td>200.000000</td>\n",
       "      <td>268923.000000</td>\n",
       "      <td>27445.000000</td>\n",
       "      <td>779.000000</td>\n",
       "      <td>1.000000</td>\n",
       "      <td>78.500000</td>\n",
       "      <td>2017.000000</td>\n",
       "      <td>12.000000</td>\n",
       "    </tr>\n",
       "  </tbody>\n",
       "</table>\n",
       "</div>\n",
       "    <div class=\"colab-df-buttons\">\n",
       "\n",
       "  <div class=\"colab-df-container\">\n",
       "    <button class=\"colab-df-convert\" onclick=\"convertToInteractive('df-a22e2edf-535b-4dcd-ac86-0bd82b68b7a8')\"\n",
       "            title=\"Convert this dataframe to an interactive table.\"\n",
       "            style=\"display:none;\">\n",
       "\n",
       "  <svg xmlns=\"http://www.w3.org/2000/svg\" height=\"24px\" viewBox=\"0 -960 960 960\">\n",
       "    <path d=\"M120-120v-720h720v720H120Zm60-500h600v-160H180v160Zm220 220h160v-160H400v160Zm0 220h160v-160H400v160ZM180-400h160v-160H180v160Zm440 0h160v-160H620v160ZM180-180h160v-160H180v160Zm440 0h160v-160H620v160Z\"/>\n",
       "  </svg>\n",
       "    </button>\n",
       "\n",
       "  <style>\n",
       "    .colab-df-container {\n",
       "      display:flex;\n",
       "      gap: 12px;\n",
       "    }\n",
       "\n",
       "    .colab-df-convert {\n",
       "      background-color: #E8F0FE;\n",
       "      border: none;\n",
       "      border-radius: 50%;\n",
       "      cursor: pointer;\n",
       "      display: none;\n",
       "      fill: #1967D2;\n",
       "      height: 32px;\n",
       "      padding: 0 0 0 0;\n",
       "      width: 32px;\n",
       "    }\n",
       "\n",
       "    .colab-df-convert:hover {\n",
       "      background-color: #E2EBFA;\n",
       "      box-shadow: 0px 1px 2px rgba(60, 64, 67, 0.3), 0px 1px 3px 1px rgba(60, 64, 67, 0.15);\n",
       "      fill: #174EA6;\n",
       "    }\n",
       "\n",
       "    .colab-df-buttons div {\n",
       "      margin-bottom: 4px;\n",
       "    }\n",
       "\n",
       "    [theme=dark] .colab-df-convert {\n",
       "      background-color: #3B4455;\n",
       "      fill: #D2E3FC;\n",
       "    }\n",
       "\n",
       "    [theme=dark] .colab-df-convert:hover {\n",
       "      background-color: #434B5C;\n",
       "      box-shadow: 0px 1px 3px 1px rgba(0, 0, 0, 0.15);\n",
       "      filter: drop-shadow(0px 1px 2px rgba(0, 0, 0, 0.3));\n",
       "      fill: #FFFFFF;\n",
       "    }\n",
       "  </style>\n",
       "\n",
       "    <script>\n",
       "      const buttonEl =\n",
       "        document.querySelector('#df-a22e2edf-535b-4dcd-ac86-0bd82b68b7a8 button.colab-df-convert');\n",
       "      buttonEl.style.display =\n",
       "        google.colab.kernel.accessAllowed ? 'block' : 'none';\n",
       "\n",
       "      async function convertToInteractive(key) {\n",
       "        const element = document.querySelector('#df-a22e2edf-535b-4dcd-ac86-0bd82b68b7a8');\n",
       "        const dataTable =\n",
       "          await google.colab.kernel.invokeFunction('convertToInteractive',\n",
       "                                                    [key], {});\n",
       "        if (!dataTable) return;\n",
       "\n",
       "        const docLinkHtml = 'Like what you see? Visit the ' +\n",
       "          '<a target=\"_blank\" href=https://colab.research.google.com/notebooks/data_table.ipynb>data table notebook</a>'\n",
       "          + ' to learn more about interactive tables.';\n",
       "        element.innerHTML = '';\n",
       "        dataTable['output_type'] = 'display_data';\n",
       "        await google.colab.output.renderOutput(dataTable, element);\n",
       "        const docLink = document.createElement('div');\n",
       "        docLink.innerHTML = docLinkHtml;\n",
       "        element.appendChild(docLink);\n",
       "      }\n",
       "    </script>\n",
       "  </div>\n",
       "\n",
       "\n",
       "<div id=\"df-51f8c974-7a9c-4618-b6f7-d8a683197fb5\">\n",
       "  <button class=\"colab-df-quickchart\" onclick=\"quickchart('df-51f8c974-7a9c-4618-b6f7-d8a683197fb5')\"\n",
       "            title=\"Suggest charts.\"\n",
       "            style=\"display:none;\">\n",
       "\n",
       "<svg xmlns=\"http://www.w3.org/2000/svg\" height=\"24px\"viewBox=\"0 0 24 24\"\n",
       "     width=\"24px\">\n",
       "    <g>\n",
       "        <path d=\"M19 3H5c-1.1 0-2 .9-2 2v14c0 1.1.9 2 2 2h14c1.1 0 2-.9 2-2V5c0-1.1-.9-2-2-2zM9 17H7v-7h2v7zm4 0h-2V7h2v10zm4 0h-2v-4h2v4z\"/>\n",
       "    </g>\n",
       "</svg>\n",
       "  </button>\n",
       "\n",
       "<style>\n",
       "  .colab-df-quickchart {\n",
       "      --bg-color: #E8F0FE;\n",
       "      --fill-color: #1967D2;\n",
       "      --hover-bg-color: #E2EBFA;\n",
       "      --hover-fill-color: #174EA6;\n",
       "      --disabled-fill-color: #AAA;\n",
       "      --disabled-bg-color: #DDD;\n",
       "  }\n",
       "\n",
       "  [theme=dark] .colab-df-quickchart {\n",
       "      --bg-color: #3B4455;\n",
       "      --fill-color: #D2E3FC;\n",
       "      --hover-bg-color: #434B5C;\n",
       "      --hover-fill-color: #FFFFFF;\n",
       "      --disabled-bg-color: #3B4455;\n",
       "      --disabled-fill-color: #666;\n",
       "  }\n",
       "\n",
       "  .colab-df-quickchart {\n",
       "    background-color: var(--bg-color);\n",
       "    border: none;\n",
       "    border-radius: 50%;\n",
       "    cursor: pointer;\n",
       "    display: none;\n",
       "    fill: var(--fill-color);\n",
       "    height: 32px;\n",
       "    padding: 0;\n",
       "    width: 32px;\n",
       "  }\n",
       "\n",
       "  .colab-df-quickchart:hover {\n",
       "    background-color: var(--hover-bg-color);\n",
       "    box-shadow: 0 1px 2px rgba(60, 64, 67, 0.3), 0 1px 3px 1px rgba(60, 64, 67, 0.15);\n",
       "    fill: var(--button-hover-fill-color);\n",
       "  }\n",
       "\n",
       "  .colab-df-quickchart-complete:disabled,\n",
       "  .colab-df-quickchart-complete:disabled:hover {\n",
       "    background-color: var(--disabled-bg-color);\n",
       "    fill: var(--disabled-fill-color);\n",
       "    box-shadow: none;\n",
       "  }\n",
       "\n",
       "  .colab-df-spinner {\n",
       "    border: 2px solid var(--fill-color);\n",
       "    border-color: transparent;\n",
       "    border-bottom-color: var(--fill-color);\n",
       "    animation:\n",
       "      spin 1s steps(1) infinite;\n",
       "  }\n",
       "\n",
       "  @keyframes spin {\n",
       "    0% {\n",
       "      border-color: transparent;\n",
       "      border-bottom-color: var(--fill-color);\n",
       "      border-left-color: var(--fill-color);\n",
       "    }\n",
       "    20% {\n",
       "      border-color: transparent;\n",
       "      border-left-color: var(--fill-color);\n",
       "      border-top-color: var(--fill-color);\n",
       "    }\n",
       "    30% {\n",
       "      border-color: transparent;\n",
       "      border-left-color: var(--fill-color);\n",
       "      border-top-color: var(--fill-color);\n",
       "      border-right-color: var(--fill-color);\n",
       "    }\n",
       "    40% {\n",
       "      border-color: transparent;\n",
       "      border-right-color: var(--fill-color);\n",
       "      border-top-color: var(--fill-color);\n",
       "    }\n",
       "    60% {\n",
       "      border-color: transparent;\n",
       "      border-right-color: var(--fill-color);\n",
       "    }\n",
       "    80% {\n",
       "      border-color: transparent;\n",
       "      border-right-color: var(--fill-color);\n",
       "      border-bottom-color: var(--fill-color);\n",
       "    }\n",
       "    90% {\n",
       "      border-color: transparent;\n",
       "      border-bottom-color: var(--fill-color);\n",
       "    }\n",
       "  }\n",
       "</style>\n",
       "\n",
       "  <script>\n",
       "    async function quickchart(key) {\n",
       "      const quickchartButtonEl =\n",
       "        document.querySelector('#' + key + ' button');\n",
       "      quickchartButtonEl.disabled = true;  // To prevent multiple clicks.\n",
       "      quickchartButtonEl.classList.add('colab-df-spinner');\n",
       "      try {\n",
       "        const charts = await google.colab.kernel.invokeFunction(\n",
       "            'suggestCharts', [key], {});\n",
       "      } catch (error) {\n",
       "        console.error('Error during call to suggestCharts:', error);\n",
       "      }\n",
       "      quickchartButtonEl.classList.remove('colab-df-spinner');\n",
       "      quickchartButtonEl.classList.add('colab-df-quickchart-complete');\n",
       "    }\n",
       "    (() => {\n",
       "      let quickchartButtonEl =\n",
       "        document.querySelector('#df-51f8c974-7a9c-4618-b6f7-d8a683197fb5 button');\n",
       "      quickchartButtonEl.style.display =\n",
       "        google.colab.kernel.accessAllowed ? 'block' : 'none';\n",
       "    })();\n",
       "  </script>\n",
       "</div>\n",
       "    </div>\n",
       "  </div>\n"
      ],
      "text/plain": [
       "          course_id        price  num_subscribers   num_reviews  num_lectures  \\\n",
       "count  3.676000e+03  3676.000000      3676.000000   3676.000000   3676.000000   \n",
       "mean   6.757535e+05    66.115343      3199.260881    156.309848     40.129761   \n",
       "std    3.431304e+05    61.056073      9486.582966    935.674518     50.398507   \n",
       "min    8.324000e+03     0.000000         0.000000      0.000000      0.000000   \n",
       "25%    4.074740e+05    20.000000       112.000000      4.000000     15.000000   \n",
       "50%    6.876920e+05    45.000000       912.500000     18.000000     25.000000   \n",
       "75%    9.608140e+05    95.000000      2558.000000     67.000000     46.000000   \n",
       "max    1.282064e+06   200.000000    268923.000000  27445.000000    779.000000   \n",
       "\n",
       "            Rating  content_duration  published_year  published_month  \n",
       "count  3676.000000       3676.000000     3676.000000      3676.000000  \n",
       "mean      0.610868          4.096137     2015.430903         6.162949  \n",
       "std       0.334287          6.054948        1.184876         3.379949  \n",
       "min       0.000000          0.000000     2011.000000         1.000000  \n",
       "25%       0.280000          1.000000     2015.000000         3.000000  \n",
       "50%       0.760000          2.000000     2016.000000         6.000000  \n",
       "75%       0.930000          4.500000     2016.000000         9.000000  \n",
       "max       1.000000         78.500000     2017.000000        12.000000  "
      ]
     },
     "execution_count": 63,
     "metadata": {},
     "output_type": "execute_result"
    }
   ],
   "source": [
    "df.describe()"
   ]
  },
  {
   "cell_type": "code",
   "execution_count": 64,
   "metadata": {
    "colab": {
     "base_uri": "https://localhost:8080/",
     "height": 558
    },
    "id": "ZbruH0eCIMS8",
    "outputId": "7bed407a-cdf2-4c3e-edbd-285a4409c96c"
   },
   "outputs": [
    {
     "data": {
      "text/plain": [
       "<Axes: >"
      ]
     },
     "execution_count": 64,
     "metadata": {},
     "output_type": "execute_result"
    },
    {
     "data": {
      "image/png": "[encoded data removed]",
      "text/plain": [
       "<Figure size 640x480 with 2 Axes>"
      ]
     },
     "metadata": {},
     "output_type": "display_data"
    }
   ],
   "source": [
    "sns.heatmap(df.corr(),annot=True,cmap=\"YlGnBu\")"
   ]
  },
  {
   "cell_type": "markdown",
   "metadata": {
    "id": "Zif5ScwYIzeX"
   },
   "source": [
    "**observations**\n",
    "\n",
    "Highly co-related feature with Target Variable:\n",
    "\n",
    "* No features is corelated very highly with Target variable 'Rating'.\n",
    "* still the highly correlated feature is course_id (0.05),no_of_lectures (0.04),price(-0.032),published_year(0.06) and published_month(-0.05)\n",
    "\n",
    "Highly co-related pair of features:\n",
    "\n",
    "* content_duration and num_lectures\n",
    "* published_year and course_id\n"
   ]
  },
  {
   "cell_type": "code",
   "execution_count": 65,
   "metadata": {
    "colab": {
     "base_uri": "https://localhost:8080/",
     "height": 855
    },
    "id": "A4E6sD7KJsgX",
    "outputId": "e2f87016-59d8-4cbc-e7e8-b383760d66b2"
   },
   "outputs": [
    {
     "data": {
      "text/plain": [
       "array([[<Axes: title={'center': 'course_id'}>,\n",
       "        <Axes: title={'center': 'price'}>,\n",
       "        <Axes: title={'center': 'num_subscribers'}>],\n",
       "       [<Axes: title={'center': 'num_reviews'}>,\n",
       "        <Axes: title={'center': 'num_lectures'}>,\n",
       "        <Axes: title={'center': 'Rating'}>],\n",
       "       [<Axes: title={'center': 'content_duration'}>,\n",
       "        <Axes: title={'center': 'published_year'}>,\n",
       "        <Axes: title={'center': 'published_month'}>]], dtype=object)"
      ]
     },
     "execution_count": 65,
     "metadata": {},
     "output_type": "execute_result"
    },
    {
     "data": {
      "image/png": "[encoded data removed]",
      "text/plain": [
       "<Figure size 1200x800 with 9 Axes>"
      ]
     },
     "metadata": {},
     "output_type": "display_data"
    }
   ],
   "source": [
    "#checking for the skewness\n",
    "df.hist(figsize=(12,8))"
   ]
  },
  {
   "cell_type": "code",
   "execution_count": 66,
   "metadata": {
    "colab": {
     "base_uri": "https://localhost:8080/"
    },
    "id": "hXvBI8jwIMRh",
    "outputId": "a4670a89-a54e-4287-8be0-5f29962f2229"
   },
   "outputs": [
    {
     "data": {
      "text/plain": [
       "course_id           -0.152638\n",
       "price                1.156255\n",
       "num_subscribers     11.591336\n",
       "num_reviews         17.813368\n",
       "num_lectures         4.870835\n",
       "Rating              -0.467674\n",
       "content_duration     5.427303\n",
       "published_year      -0.602585\n",
       "published_month      0.177076\n",
       "dtype: float64"
      ]
     },
     "execution_count": 66,
     "metadata": {},
     "output_type": "execute_result"
    }
   ],
   "source": [
    "df.skew()"
   ]
  },
  {
   "cell_type": "markdown",
   "metadata": {
    "id": "vRYub3k3S2OZ"
   },
   "source": [
    "**Handling skewed data**"
   ]
  },
  {
   "cell_type": "code",
   "execution_count": 67,
   "metadata": {
    "colab": {
     "base_uri": "https://localhost:8080/"
    },
    "id": "oC3ePmpzTQST",
    "outputId": "d1431bbc-1677-4c50-fe77-74b3e6bcd16b"
   },
   "outputs": [
    {
     "name": "stdout",
     "output_type": "stream",
     "text": [
      "284\n",
      "1\n",
      "65\n"
     ]
    }
   ],
   "source": [
    "print(sum(df[\"num_reviews\"]<=0))\n",
    "print(sum(df[\"num_lectures\"]<=0))\n",
    "print(sum(df[\"num_subscribers\"]<=0))\n"
   ]
  },
  {
   "cell_type": "code",
   "execution_count": 68,
   "metadata": {
    "id": "NHDalfYMS1LR"
   },
   "outputs": [],
   "source": [
    "#as there were more zero values were present therefore using logx+1 instead of logx because logx at 0 is not defined\n",
    "df[\"num_subscribers\"]=np.log(df[\"num_subscribers\"]+1)\n",
    "df[\"num_reviews\"]=np.log(df[\"num_reviews\"]+1)\n",
    "df[\"num_lectures\"]=np.log(df[\"num_lectures\"]+1)\n"
   ]
  },
  {
   "cell_type": "code",
   "execution_count": 69,
   "metadata": {
    "colab": {
     "base_uri": "https://localhost:8080/"
    },
    "id": "CemV6oo0ChCT",
    "outputId": "46184b78-e9bc-4df4-c816-87f5a2dd2187"
   },
   "outputs": [
    {
     "data": {
      "text/plain": [
       "course_id              3672\n",
       "course_title           3663\n",
       "url                    3672\n",
       "price                    38\n",
       "num_subscribers        2197\n",
       "num_reviews             511\n",
       "num_lectures            229\n",
       "level                     4\n",
       "Rating                  101\n",
       "content_duration        105\n",
       "published_timestamp    3672\n",
       "subject                   4\n",
       "published_year            7\n",
       "published_month          12\n",
       "dtype: int64"
      ]
     },
     "execution_count": 69,
     "metadata": {},
     "output_type": "execute_result"
    }
   ],
   "source": [
    "df.nunique()"
   ]
  },
  {
   "cell_type": "markdown",
   "metadata": {
    "id": "e-qkvKW8SNjo"
   },
   "source": [
    "**Encoding Categorical Column level,subject as there were only 4 unique value**\n",
    "\n",
    "\n"
   ]
  },
  {
   "cell_type": "code",
   "execution_count": 70,
   "metadata": {
    "id": "q32dz7WHt9RL"
   },
   "outputs": [],
   "source": [
    "df=df.join(pd.get_dummies(df.level)).drop([\"level\"],axis=1)       #converting to numerical values column level and subject\n",
    "df=df.join(pd.get_dummies(df.subject)).drop([\"subject\"],axis=1)"
   ]
  },
  {
   "cell_type": "code",
   "execution_count": 71,
   "metadata": {
    "id": "xzxGpt1sRTN4"
   },
   "outputs": [],
   "source": [
    "''' By knowing the unique values and its count from features  like 'course_id','course_title','url','published_timestamp','content_duration' are not related to 'Ratings'\n",
    "(dependent variable) and it adds no meaning to predict Ratings,therefore dropping'''\n",
    "df.drop(['course_id','course_title','url','published_timestamp',\"content_duration\"],axis=1,inplace=True)"
   ]
  },
  {
   "cell_type": "markdown",
   "metadata": {
    "id": "qhUG2f1xDt_A"
   },
   "source": [
    "**Splitting dataset into training and testings**"
   ]
  },
  {
   "cell_type": "code",
   "execution_count": 81,
   "metadata": {
    "id": "3vd8HyM61dy7"
   },
   "outputs": [],
   "source": [
    "from sklearn.model_selection import train_test_split\n",
    "x=df.iloc[:,[0,1,2,3,5,6,7,8,9,10,11,12,13,14]]\n",
    "y=df[\"Rating\"]\n",
    "X_train, X_test, y_train, y_test = train_test_split(x, y, test_size=0.25, random_state=5)\n"
   ]
  },
  {
   "cell_type": "code",
   "execution_count": 83,
   "metadata": {
    "colab": {
     "base_uri": "https://localhost:8080/"
    },
    "id": "xSt5eyxGFRwK",
    "outputId": "6c7d122d-8c2f-4639-a7dd-5fd613423ec8"
   },
   "outputs": [
    {
     "name": "stdout",
     "output_type": "stream",
     "text": [
      "Index(['price', 'num_subscribers', 'num_reviews', 'num_lectures',\n",
      "       'published_year', 'published_month', 'All Levels', 'Beginner Level',\n",
      "       'Expert Level', 'Intermediate Level', 'Business Finance',\n",
      "       'Graphic Design', 'Musical Instruments', 'Subject: Web Development'],\n",
      "      dtype='object')\n",
      "0       0.82\n",
      "1       0.69\n",
      "2       0.89\n",
      "3       0.78\n",
      "4       0.55\n",
      "        ... \n",
      "3675    0.31\n",
      "3676    0.06\n",
      "3677    0.08\n",
      "3678    0.78\n",
      "3679    0.01\n",
      "Name: Rating, Length: 3676, dtype: float64\n"
     ]
    }
   ],
   "source": [
    "print(x.columns)\n",
    "print(y)"
   ]
  },
  {
   "cell_type": "code",
   "execution_count": 90,
   "metadata": {
    "id": "CeZ5NUzmFpsZ"
   },
   "outputs": [],
   "source": [
    "from sklearn.preprocessing import StandardScaler\n",
    "scaler = StandardScaler()\n",
    "x= scaler.fit_transform(x)"
   ]
  },
  {
   "cell_type": "markdown",
   "metadata": {
    "id": "znAYAJ4SGsl5"
   },
   "source": [
    "**Linear Regression**"
   ]
  },
  {
   "cell_type": "code",
   "execution_count": 91,
   "metadata": {
    "colab": {
     "base_uri": "https://localhost:8080/"
    },
    "id": "2TiudmV5dkHt",
    "outputId": "2fb7ab92-161c-43e3-dba6-3013aec4bf58"
   },
   "outputs": [
    {
     "name": "stdout",
     "output_type": "stream",
     "text": [
      "R-square 0.19447501200162698\n",
      "mean squared error 0.08382336768580127\n"
     ]
    }
   ],
   "source": [
    "from sklearn.metrics import mean_squared_error,r2_score\n",
    "from sklearn.linear_model import LinearRegression\n",
    "lr = LinearRegression()\n",
    "model=lr.fit(X_train,y_train)\n",
    "y_pred = model.predict(X_test)\n",
    "mse = mean_squared_error(y_test, y_pred)\n",
    "r2 = r2_score(y_test, y_pred)\n",
    "print(\"R2_score\",r2)\n"
   ]
  },
  {
   "cell_type": "markdown",
   "metadata": {
    "id": "OLEVwyXpkdoZ"
   },
   "source": [
    "**Polynomial Regression**"
   ]
  },
  {
   "cell_type": "code",
   "execution_count": 103,
   "metadata": {
    "colab": {
     "base_uri": "https://localhost:8080/"
    },
    "id": "F5jqhdcsGz-R",
    "outputId": "502777ae-70d5-4361-9211-462af3a350b2"
   },
   "outputs": [
    {
     "name": "stdout",
     "output_type": "stream",
     "text": [
      "Training Accuracy 0.21402128505925422\n",
      "Testing Accuracy 0.2145950104543548\n"
     ]
    }
   ],
   "source": [
    "#Fitting the polynomial Regression into data set\n",
    "from sklearn.preprocessing import PolynomialFeatures\n",
    "from sklearn.metrics import r2_score,mean_squared_error as MSE\n",
    "# Transform independent variables to polynomial features\n",
    "poly = PolynomialFeatures(degree=2)\n",
    "x_train_poly = poly.fit_transform(X_train)\n",
    "x_test_poly = poly.transform(X_test)\n",
    "model = LinearRegression()\n",
    "model.fit(x_train_poly, y_train)\n",
    "print(\"Training Accuracy\",model.score(x_train_poly, y_train))\n",
    "r2 = model.score(x_test_poly,y_test)\n",
    "print('Testing Accuracy', r2)\n"
   ]
  },
  {
   "cell_type": "markdown",
   "metadata": {
    "id": "aB_jAMmjNsBt"
   },
   "source": [
    "**Decision Tree Regressor with hyperparameter tuning**"
   ]
  },
  {
   "cell_type": "code",
   "execution_count": 108,
   "metadata": {
    "colab": {
     "base_uri": "https://localhost:8080/"
    },
    "id": "UPBd18OyItgu",
    "outputId": "e5b15049-c92c-41bc-befe-c7c5c96ec40c"
   },
   "outputs": [
    {
     "name": "stdout",
     "output_type": "stream",
     "text": [
      "Best hyperparameters: {'max_depth': 5, 'max_features': 'auto', 'min_samples_leaf': 4, 'min_samples_split': 10}\n",
      "Training Accuracy: 0.312916615508543\n",
      "Testing Accuracy: 0.30625206345368816\n",
      "The RMSE score of model is  0.27673836837942967\n"
     ]
    }
   ],
   "source": [
    "from sklearn.metrics import mean_squared_error,r2_score\n",
    "from sklearn.tree import DecisionTreeRegressor\n",
    "from sklearn.model_selection import GridSearchCV\n",
    "\n",
    "dtr = DecisionTreeRegressor()\n",
    "# hyperparameters\n",
    "param_grid = {'max_depth': [2, 5, 10, 20],\n",
    "              'min_samples_split': [2, 5, 10],\n",
    "              'min_samples_leaf': [1, 2, 4],\n",
    "              'max_features': ['auto', 'sqrt', 'log2']}\n",
    "# gridsearchcv\n",
    "grid_search = GridSearchCV(estimator=dtr, param_grid=param_grid, cv=5)\n",
    "grid_search.fit(X_train, y_train)\n",
    "print(\"Best hyperparameters:\", grid_search.best_params_)\n",
    "best_model = grid_search.best_estimator_\n",
    "y_pred = best_model.predict(X_test)\n",
    "train_r2 = best_model.score(X_train, y_train)\n",
    "test_r2 = best_model.score(X_test, y_test)\n",
    "print(\"Training Accuracy:\", train_r2)\n",
    "print(\"Testing Accuracy:\", test_r2)\n",
    "print('The RMSE score of model is ',MSE(y_test,y_pred,squared=False))\n",
    "\n"
   ]
  },
  {
   "cell_type": "markdown",
   "metadata": {
    "id": "pkYm865VN_0n"
   },
   "source": [
    "**Random Forest Regressor**"
   ]
  },
  {
   "cell_type": "code",
   "execution_count": 110,
   "metadata": {
    "colab": {
     "base_uri": "https://localhost:8080/"
    },
    "id": "e94Nujl0oGqh",
    "outputId": "ed5f1281-f17b-40a4-a218-2ce0e0b0155b"
   },
   "outputs": [
    {
     "name": "stdout",
     "output_type": "stream",
     "text": [
      "Training Accuracy: 0.5835338417652871\n",
      "Testing Accuracy: 0.3940020212336609\n",
      "The RMSE score of model is  0.2586450145450881\n"
     ]
    }
   ],
   "source": [
    "from sklearn.ensemble import RandomForestRegressor\n",
    "from sklearn.metrics import r2_score,mean_squared_error as MSE\n",
    "\n",
    "rf_reg = RandomForestRegressor(n_estimators=100, max_depth=10, min_samples_leaf=5,random_state=5)\n",
    "#Train the model on the training data\n",
    "rf_reg.fit(X_train, y_train)\n",
    "y_pred=rf_reg.predict(X_test)\n",
    "#Evaluate the model\n",
    "train_r2 = rf_reg.score(X_train, y_train)\n",
    "test_r2 = rf_reg.score(X_test, y_test)\n",
    "print(\"Training Accuracy:\", train_r2)\n",
    "print(\"Testing Accuracy:\", test_r2)\n",
    "print('The RMSE score of model is ',MSE(y_test,y_pred,squared=False))\n",
    "\n"
   ]
  },
  {
   "cell_type": "markdown",
   "metadata": {
    "id": "cuZAbgGyPCZb"
   },
   "source": [
    "**Random Forest Regressor with hyperparameter tuning**"
   ]
  },
  {
   "cell_type": "code",
   "execution_count": 113,
   "metadata": {
    "colab": {
     "base_uri": "https://localhost:8080/"
    },
    "id": "79E80U_HOOKa",
    "outputId": "774912b1-ca2b-468d-c55a-d6ddead88256"
   },
   "outputs": [
    {
     "name": "stdout",
     "output_type": "stream",
     "text": [
      "Best parameters: {'max_depth': 15, 'min_samples_leaf': 5}\n",
      "Training Accuracy : 0.670906747458101\n",
      "Testing Accuracy: 0.41418659362784005\n",
      "The RMSE score of model is  0.25430106384996914\n"
     ]
    }
   ],
   "source": [
    "from sklearn.model_selection import GridSearchCV\n",
    "from sklearn.ensemble import RandomForestRegressor\n",
    "# Create a Random Forest Regressor\n",
    "rf_reg = RandomForestRegressor(n_estimators=100)\n",
    "# Define the hyperparameters to search\n",
    "param_grid = {\n",
    "    'max_depth': [5,10,15],\n",
    "    'min_samples_leaf': [1,5,10]\n",
    "\n",
    "}\n",
    "# Perform a grid search to find the best hyperparameters\n",
    "grid_search = GridSearchCV(rf_reg, param_grid, cv=5)\n",
    "grid_search.fit(X_train, y_train)\n",
    "# Print the best parameters\n",
    "best_params = grid_search.best_params_\n",
    "print(\"Best parameters:\", best_params)\n",
    "# Use the best parameters to create a new model\n",
    "rf_tuning = RandomForestRegressor(n_estimators=100, max_depth=best_params['max_depth'], min_samples_leaf=best_params['min_samples_leaf'])\n",
    "# Train the model\n",
    "rf_tuning.fit(X_train, y_train)\n",
    "y_pred=rf_tuning.predict(X_test)\n",
    "# Evaluate the model\n",
    "train_r2 = rf_tuning.score(X_train, y_train)\n",
    "test_r2 = rf_tuning.score(X_test, y_test)\n",
    "print(\"Training Accuracy :\", train_r2)\n",
    "print(\"Testing Accuracy:\", test_r2)\n",
    "print('The RMSE score of model is ',MSE(y_test,y_pred,squared=False))\n"
   ]
  },
  {
   "cell_type": "markdown",
   "metadata": {
    "id": "JvMV-rzBPvnZ"
   },
   "source": [
    "**Gradient Boosting Regressor**"
   ]
  },
  {
   "cell_type": "code",
   "execution_count": 115,
   "metadata": {
    "colab": {
     "base_uri": "https://localhost:8080/"
    },
    "id": "MWW_3D-7QdO-",
    "outputId": "3485891f-d4ee-458e-ac72-5f22278c8543"
   },
   "outputs": [
    {
     "name": "stdout",
     "output_type": "stream",
     "text": [
      "Training Accuracy: 0.4159674328418683\n",
      "Testing Accuracy: 0.3580202336068661\n",
      "The RMSE score of model is  0.26621295983213045\n"
     ]
    }
   ],
   "source": [
    "from sklearn.ensemble import GradientBoostingRegressor\n",
    "from sklearn.model_selection import train_test_split\n",
    "from sklearn.metrics import r2_score,mean_squared_error as MSE\n",
    "\n",
    "# Train the model\n",
    "model = GradientBoostingRegressor()\n",
    "model.fit(X_train, y_train)\n",
    "y_pred=model.predict(X_test)\n",
    "print(\"Training Accuracy:\",model.score(X_train,y_train))\n",
    "# Testing Test\n",
    "print('Testing Accuracy:', model.score(X_test,y_test))\n",
    "#rmse\n",
    "print('The RMSE score of model is ',MSE(y_test,y_pred,squared=False))\n"
   ]
  },
  {
   "cell_type": "markdown",
   "metadata": {
    "id": "KjIIuuzcSFJA"
   },
   "source": [
    "**Gradient Boosting Regressor with hyperparameter tuning**"
   ]
  },
  {
   "cell_type": "code",
   "execution_count": 116,
   "metadata": {
    "colab": {
     "base_uri": "https://localhost:8080/"
    },
    "id": "_XTkuEGwo9Xs",
    "outputId": "218c151b-d5f8-48c9-9b92-fae92064ab62"
   },
   "outputs": [
    {
     "name": "stdout",
     "output_type": "stream",
     "text": [
      "Best parameters: {'max_depth': 5}\n",
      "Training Accuracy : 0.6371247101488875\n",
      "Testing Accuracy: 0.36196246923913067\n",
      "The RMSE score of model is  0.26539432786275424\n"
     ]
    }
   ],
   "source": [
    "from sklearn.ensemble import GradientBoostingRegressor\n",
    "from sklearn.model_selection import train_test_split\n",
    "from sklearn.metrics import r2_score,mean_squared_error as MSE\n",
    "model=GradientBoostingRegressor(n_estimators=100)\n",
    "# Define the hyperparameters to search\n",
    "param_grid = {\n",
    "    'max_depth': [5,10,15,20,25]\n",
    "}\n",
    "# Perform a grid search to find the best hyperparameters\n",
    "grid_search = GridSearchCV(model, param_grid, cv=5)\n",
    "grid_search.fit(X_train, y_train)\n",
    "# Print the best parameters\n",
    "best_params = grid_search.best_params_\n",
    "print(\"Best parameters:\", best_params)\n",
    "# Use the best parameters to create a new model\n",
    "GBR = GradientBoostingRegressor(n_estimators=100, max_depth=best_params['max_depth'],random_state=1)\n",
    "# Train the model\n",
    "GBR.fit(X_train, y_train)\n",
    "y_pred=GBR.predict(X_test)\n",
    "# Evaluate the model\n",
    "train_r2 = GBR.score(X_train, y_train)\n",
    "test_r2 = GBR.score(X_test, y_test)\n",
    "print(\"Training Accuracy :\", train_r2)\n",
    "print(\"Testing Accuracy:\", test_r2)\n",
    "print('The RMSE score of model is ',MSE(y_test,y_pred,squared=False))"
   ]
  },
  {
   "cell_type": "markdown",
   "metadata": {
    "id": "AiGhKbikdPW1"
   },
   "source": [
    "**XGBoost Regressor**"
   ]
  },
  {
   "cell_type": "code",
   "execution_count": 131,
   "metadata": {
    "colab": {
     "base_uri": "https://localhost:8080/"
    },
    "id": "hefy1pf8WIHS",
    "outputId": "80f3595d-8259-47af-d5f7-13bb3268eafc"
   },
   "outputs": [
    {
     "name": "stdout",
     "output_type": "stream",
     "text": [
      "Training accuracy: 0.7229371950836738\n",
      "Testing accuracy: 0.3740497017885617\n",
      "The RMSE score of model is  0.26286844083681354\n"
     ]
    }
   ],
   "source": [
    "from xgboost import XGBRegressor\n",
    "from sklearn import metrics\n",
    "RegModel=XGBRegressor(learning_rate=0.1, n_estimators=100, objective='reg:squarederror', booster='gbtree')\n",
    "XGB=RegModel.fit(X_train,y_train)\n",
    "y_pred=XGB.predict(X_test)\n",
    "print('Training accuracy:',metrics.r2_score(y_train, XGB.predict(X_train)))\n",
    "print('Testing accuracy:',metrics.r2_score(y_test,y_pred))\n",
    "print('The RMSE score of model is ',MSE(y_test,y_pred,squared=False))\n"
   ]
  },
  {
   "cell_type": "markdown",
   "metadata": {
    "id": "2_atZGOadWEH"
   },
   "source": [
    "**XGBoost Regressor with hyperparameter tuning**"
   ]
  },
  {
   "cell_type": "code",
   "execution_count": 136,
   "metadata": {
    "colab": {
     "base_uri": "https://localhost:8080/"
    },
    "id": "o8E5hl7cXPuq",
    "outputId": "2c9ead08-92cb-4455-dcb9-84e581937f20"
   },
   "outputs": [
    {
     "name": "stdout",
     "output_type": "stream",
     "text": [
      "Best parameters: {'max_depth': 10}\n",
      "Training accuracy: 0.9769441404617514\n",
      "Testing accuracy: 0.3392525332602462\n",
      "The RMSE score of model is  0.27007617687756913\n"
     ]
    }
   ],
   "source": [
    "from xgboost import XGBRegressor\n",
    "from sklearn import metrics\n",
    "model=XGBRegressor(learning_rate=0.1, n_estimators=500, objective='reg:squarederror', booster='gbtree')\n",
    "params = {\n",
    "    'max_depth':[3,5,7,9,10,12]\n",
    "}\n",
    "grid_search = GridSearchCV(model, param_grid, cv=5)\n",
    "grid_search.fit(X_train, y_train)\n",
    "best_params = grid_search.best_params_\n",
    "print(\"Best parameters:\", best_params)\n",
    "RegModel=XGBRegressor(n_estimators=100,learning_rate=0.1, objective='reg:squarederror', booster='gbtree',max_depth=best_params[\"max_depth\"])\n",
    "XGB=RegModel.fit(X_train,y_train)\n",
    "y_pred=XGB.predict(X_test)\n",
    "print('Training accuracy:',metrics.r2_score(y_train, XGB.predict(X_train)))\n",
    "print('Testing accuracy:',metrics.r2_score(y_test,y_pred))\n",
    "print('The RMSE score of model is ',MSE(y_test,y_pred,squared=False))\n",
    "\n",
    "\n"
   ]
  },
  {
   "cell_type": "markdown",
   "metadata": {
    "id": "6EZV4V8kiDfm"
   },
   "source": [
    "# **`Conclusion`**\n",
    "\n",
    "* As no features are highly correlated with the target variable Rating,no model fits the data.\n",
    "\n",
    "* So it is important to add more relative features and increase the dataset size inorder to predict the ratings accurately.\n",
    "\n",
    "* After applying various regression model, Random Forest model gives comparatively somewhat better accuracy i.e 58%,so considering it.\n",
    "\n",
    "\n"
   ]
  }
 ],
 "metadata": {
  "colab": {
   "provenance": []
  },
  "kernelspec": {
   "display_name": "Python 3 (ipykernel)",
   "language": "python",
   "name": "python3"
  },
  "language_info": {
   "codemirror_mode": {
    "name": "ipython",
    "version": 3
   },
   "file_extension": ".py",
   "mimetype": "text/x-python",
   "name": "python",
   "nbconvert_exporter": "python",
   "pygments_lexer": "ipython3",
   "version": "3.11.4"
  }
 },
 "nbformat": 4,
 "nbformat_minor": 4
}
